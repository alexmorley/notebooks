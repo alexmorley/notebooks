{
 "cells": [
  {
   "cell_type": "code",
   "execution_count": 5,
   "metadata": {},
   "outputs": [],
   "source": [
    "from mlstudy import MLStudy, MLUtils"
   ]
  },
  {
   "cell_type": "code",
   "execution_count": 6,
   "metadata": {},
   "outputs": [
    {
     "name": "stdout",
     "output_type": "stream",
     "text": [
      "dict_keys(['001_analysis'])\n"
     ]
    }
   ],
   "source": [
    "study=MLStudy()\n",
    "study.load('kAbvLJTOaT')\n",
    "print(study.scriptNames())"
   ]
  },
  {
   "cell_type": "code",
   "execution_count": 7,
   "metadata": {},
   "outputs": [
    {
     "name": "stdout",
     "output_type": "stream",
     "text": [
      "{'clusters': [{'label': 1, 'metrics': {'peak_snr': 2.3374787283019516, 'bursting_parent': 0, 'peak_amp': 3.3446366786956787, 't2_sec': 1073.1611, 'peak_noise': 1.4308736324310303, 'overlap_cluster': 8, 'firing_rate': 14.555154593384394, 'isolation': 0.963572267920094, 'num_events': 15620, 't1_sec': 0.0017666666666666666, 'dur_sec': 1073.1593333333333, 'noise_overlap': 0.40217391304347827}}, {'label': 2, 'metrics': {'peak_snr': 11.366580906762424, 'bursting_parent': 0, 'peak_amp': 13.475775718688965, 't2_sec': 1071.8021, 'peak_noise': 1.1855610609054565, 'overlap_cluster': 1, 'firing_rate': 1.5251797557744817, 'isolation': 0.9988249118683902, 'num_events': 1633, 't1_sec': 1.1086333333333334, 'dur_sec': 1070.6934666666668, 'noise_overlap': 0.005581668625146863}}, {'label': 3, 'metrics': {'peak_snr': 8.211369141724559, 'bursting_parent': 0, 'peak_amp': 10.6637544631958, 't2_sec': 1071.5612666666666, 'peak_noise': 1.2986572980880737, 'overlap_cluster': 8, 'firing_rate': 2.2492325777104414, 'isolation': 0.9988249118683902, 'num_events': 2410, 't1_sec': 0.0847, 'dur_sec': 1071.4765666666665, 'noise_overlap': 0}}, {'label': 4, 'metrics': {'peak_snr': 4.708169044477485, 'bursting_parent': 0, 'peak_amp': 6.835273742675781, 't2_sec': 1072.3267333333333, 'peak_noise': 1.4517902135849, 'overlap_cluster': 10, 'firing_rate': 0.7431110524699261, 'isolation': 0.999412455934195, 'num_events': 796, 't1_sec': 1.1544, 'dur_sec': 1071.1723333333334, 'noise_overlap': 0.07432432432432434}}, {'label': 5, 'metrics': {'peak_snr': 16.478581558243373, 'bursting_parent': 0, 'peak_amp': 21.03120231628418, 't2_sec': 1072.8609333333334, 'peak_noise': 1.2762750387191772, 'overlap_cluster': 0, 'firing_rate': 1.244194343094166, 'isolation': 1, 'num_events': 1333, 't1_sec': 1.4849, 'dur_sec': 1071.3760333333335, 'noise_overlap': 0}}, {'label': 6, 'metrics': {'peak_snr': 2.141909297777306, 'bursting_parent': 0, 'peak_amp': 3.6568663120269775, 't2_sec': 1073.1636666666666, 'peak_noise': 1.7072927951812744, 'overlap_cluster': 11, 'firing_rate': 11.919102550873694, 'isolation': 0.9656286721504113, 'num_events': 12791, 't1_sec': 0.0124, 'dur_sec': 1073.1512666666665, 'noise_overlap': 0.2599882491186839}}, {'label': 7, 'metrics': {'peak_snr': 11.94285629174442, 'bursting_parent': 0, 'peak_amp': 18.73480796813965, 't2_sec': 1072.4313666666667, 'peak_noise': 1.5687041282653809, 'overlap_cluster': 12, 'firing_rate': 1.006233862800308, 'isolation': 0.9985311398354877, 'num_events': 1079, 't1_sec': 0.11603333333333334, 'dur_sec': 1072.3153333333335, 'noise_overlap': 0.001175088131609825}}, {'label': 8, 'metrics': {'peak_snr': 2.2900872599317603, 'bursting_parent': 0, 'peak_amp': 3.4181926250457764, 't2_sec': 1073.1692666666668, 'peak_noise': 1.4926036596298218, 'overlap_cluster': 1, 'firing_rate': 12.315379201382527, 'isolation': 0.963572267920094, 'num_events': 13215, 't1_sec': 0.1207, 'dur_sec': 1073.0485666666668, 'noise_overlap': 0.3704465334900118}}, {'label': 9, 'metrics': {'peak_snr': 5.410139866654821, 'bursting_parent': 0, 'peak_amp': 8.064857482910156, 't2_sec': 1072.8026, 'peak_noise': 1.4906929731369019, 'overlap_cluster': 10, 'firing_rate': 2.1516766063622317, 'isolation': 0.9976498237367802, 'num_events': 2308, 't1_sec': 0.1507, 'dur_sec': 1072.6519, 'noise_overlap': 0.00763807285546414}}, {'label': 10, 'metrics': {'peak_snr': 3.029517339880207, 'bursting_parent': 0, 'peak_amp': 5.045007228851318, 't2_sec': 1073.0644, 'peak_noise': 1.6652841567993164, 'overlap_cluster': 9, 'firing_rate': 1.7254232903309459, 'isolation': 0.9976498237367802, 'num_events': 1851, 't1_sec': 0.2841666666666667, 'dur_sec': 1072.7802333333334, 'noise_overlap': 0.009400705052878933}}, {'label': 11, 'metrics': {'peak_snr': 2.53310013330962, 'bursting_parent': 0, 'peak_amp': 3.8371994495391846, 't2_sec': 1073.2511666666667, 'peak_noise': 1.5148234367370605, 'overlap_cluster': 6, 'firing_rate': 28.03945220714365, 'isolation': 0.9656286721504113, 'num_events': 30093, 't1_sec': 0.013366666666666667, 'dur_sec': 1073.2378, 'noise_overlap': 0.3463572267920094}}, {'label': 12, 'metrics': {'peak_snr': 5.586938437744705, 'bursting_parent': 0, 'peak_amp': 9.825329780578613, 't2_sec': 1073.0335333333333, 'peak_noise': 1.7586250305175781, 'overlap_cluster': 7, 'firing_rate': 2.6138073932609838, 'isolation': 0.9985311398354877, 'num_events': 2803, 't1_sec': 0.6515333333333333, 'dur_sec': 1072.3819999999998, 'noise_overlap': 0.000587544065804968}}]}\n"
     ]
    }
   ],
   "source": [
    "A=study.script('001_analysis').result('K15/cluster_metrics.json')\n",
    "cluster_metrics=MLUtils.loadJson(A)\n",
    "print(cluster_metrics)\n",
    "\n",
    "# B=study.script('001_analysis').result('K15/firings.mda')\n",
    "# firings=Mda(MLStudy.load(B))"
   ]
  },
  {
   "cell_type": "code",
   "execution_count": null,
   "metadata": {},
   "outputs": [],
   "source": []
  }
 ],
 "metadata": {
  "kernelspec": {
   "display_name": "Python 3",
   "language": "python",
   "name": "python3"
  },
  "language_info": {
   "codemirror_mode": {
    "name": "ipython",
    "version": 3
   },
   "file_extension": ".py",
   "mimetype": "text/x-python",
   "name": "python",
   "nbconvert_exporter": "python",
   "pygments_lexer": "ipython3",
   "version": "3.5.2"
  }
 },
 "nbformat": 4,
 "nbformat_minor": 2
}
